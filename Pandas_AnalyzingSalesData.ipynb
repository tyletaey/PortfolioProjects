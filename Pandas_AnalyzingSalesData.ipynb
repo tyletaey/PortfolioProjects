{
  "cells": [
    {
      "cell_type": "markdown",
      "metadata": {
        "id": "view-in-github",
        "colab_type": "text"
      },
      "source": [
        "<a href=\"https://colab.research.google.com/github/tyletaey/PortfolioProjects/blob/main/Pandas_AnalyzingSalesData.ipynb\" target=\"_parent\"><img src=\"https://colab.research.google.com/assets/colab-badge.svg\" alt=\"Open In Colab\"/></a>"
      ]
    },
    {
      "cell_type": "markdown",
      "source": [
        "# Pandas Analyzing Sales Data"
      ],
      "metadata": {
        "datalore": {
          "node_id": "qHvetKVxPVnj2UFf8ppyyP",
          "type": "MD",
          "hide_input_from_viewers": false,
          "hide_output_from_viewers": false,
          "report_properties": {
            "rowId": "BjDNNhLQTEIYutfGKfjPl2"
          }
        },
        "id": "cbr23GJ1NXi7"
      }
    },
    {
      "cell_type": "code",
      "source": [
        "# Import data\n",
        "import pandas as pd\n",
        "df = pd.read_csv(\"sample-store.csv\")"
      ],
      "execution_count": 3,
      "outputs": [],
      "metadata": {
        "datalore": {
          "node_id": "aGCmY9Vo3dIrY2STc3uF0T",
          "type": "CODE",
          "hide_input_from_viewers": false,
          "hide_output_from_viewers": false,
          "report_properties": {
            "rowId": "tb7B30U7Zj8CYJjWFMlZh7"
          }
        },
        "id": "WY4J2y2XNXi8"
      }
    },
    {
      "cell_type": "code",
      "source": [
        "# Preview top 5 rows\n",
        "df.head()"
      ],
      "execution_count": null,
      "outputs": [
        {
          "data": {
            "text/html": [
              "<div>\n",
              "<style scoped>\n",
              "    .dataframe tbody tr th:only-of-type {\n",
              "        vertical-align: middle;\n",
              "    }\n",
              "\n",
              "    .dataframe tbody tr th {\n",
              "        vertical-align: top;\n",
              "    }\n",
              "\n",
              "    .dataframe thead th {\n",
              "        text-align: right;\n",
              "    }\n",
              "</style>\n",
              "<table border=\"1\" class=\"dataframe\">\n",
              "  <thead>\n",
              "    <tr style=\"text-align: right;\">\n",
              "      <th></th>\n",
              "      <th>Row ID</th>\n",
              "      <th>Order ID</th>\n",
              "      <th>Order Date</th>\n",
              "      <th>Ship Date</th>\n",
              "      <th>Ship Mode</th>\n",
              "      <th>Customer ID</th>\n",
              "      <th>Customer Name</th>\n",
              "      <th>Segment</th>\n",
              "      <th>Country/Region</th>\n",
              "      <th>City</th>\n",
              "      <th>...</th>\n",
              "      <th>Postal Code</th>\n",
              "      <th>Region</th>\n",
              "      <th>Product ID</th>\n",
              "      <th>Category</th>\n",
              "      <th>Sub-Category</th>\n",
              "      <th>Product Name</th>\n",
              "      <th>Sales</th>\n",
              "      <th>Quantity</th>\n",
              "      <th>Discount</th>\n",
              "      <th>Profit</th>\n",
              "    </tr>\n",
              "  </thead>\n",
              "  <tbody>\n",
              "    <tr>\n",
              "      <th>0</th>\n",
              "      <td>1</td>\n",
              "      <td>CA-2019-152156</td>\n",
              "      <td>11/8/2019</td>\n",
              "      <td>11/11/2019</td>\n",
              "      <td>Second Class</td>\n",
              "      <td>CG-12520</td>\n",
              "      <td>Claire Gute</td>\n",
              "      <td>Consumer</td>\n",
              "      <td>United States</td>\n",
              "      <td>Henderson</td>\n",
              "      <td>...</td>\n",
              "      <td>42420.0</td>\n",
              "      <td>South</td>\n",
              "      <td>FUR-BO-10001798</td>\n",
              "      <td>Furniture</td>\n",
              "      <td>Bookcases</td>\n",
              "      <td>Bush Somerset Collection Bookcase</td>\n",
              "      <td>261.9600</td>\n",
              "      <td>2</td>\n",
              "      <td>0.00</td>\n",
              "      <td>41.9136</td>\n",
              "    </tr>\n",
              "    <tr>\n",
              "      <th>1</th>\n",
              "      <td>2</td>\n",
              "      <td>CA-2019-152156</td>\n",
              "      <td>11/8/2019</td>\n",
              "      <td>11/11/2019</td>\n",
              "      <td>Second Class</td>\n",
              "      <td>CG-12520</td>\n",
              "      <td>Claire Gute</td>\n",
              "      <td>Consumer</td>\n",
              "      <td>United States</td>\n",
              "      <td>Henderson</td>\n",
              "      <td>...</td>\n",
              "      <td>42420.0</td>\n",
              "      <td>South</td>\n",
              "      <td>FUR-CH-10000454</td>\n",
              "      <td>Furniture</td>\n",
              "      <td>Chairs</td>\n",
              "      <td>Hon Deluxe Fabric Upholstered Stacking Chairs,...</td>\n",
              "      <td>731.9400</td>\n",
              "      <td>3</td>\n",
              "      <td>0.00</td>\n",
              "      <td>219.5820</td>\n",
              "    </tr>\n",
              "    <tr>\n",
              "      <th>2</th>\n",
              "      <td>3</td>\n",
              "      <td>CA-2019-138688</td>\n",
              "      <td>6/12/2019</td>\n",
              "      <td>6/16/2019</td>\n",
              "      <td>Second Class</td>\n",
              "      <td>DV-13045</td>\n",
              "      <td>Darrin Van Huff</td>\n",
              "      <td>Corporate</td>\n",
              "      <td>United States</td>\n",
              "      <td>Los Angeles</td>\n",
              "      <td>...</td>\n",
              "      <td>90036.0</td>\n",
              "      <td>West</td>\n",
              "      <td>OFF-LA-10000240</td>\n",
              "      <td>Office Supplies</td>\n",
              "      <td>Labels</td>\n",
              "      <td>Self-Adhesive Address Labels for Typewriters b...</td>\n",
              "      <td>14.6200</td>\n",
              "      <td>2</td>\n",
              "      <td>0.00</td>\n",
              "      <td>6.8714</td>\n",
              "    </tr>\n",
              "    <tr>\n",
              "      <th>3</th>\n",
              "      <td>4</td>\n",
              "      <td>US-2018-108966</td>\n",
              "      <td>10/11/2018</td>\n",
              "      <td>10/18/2018</td>\n",
              "      <td>Standard Class</td>\n",
              "      <td>SO-20335</td>\n",
              "      <td>Sean O'Donnell</td>\n",
              "      <td>Consumer</td>\n",
              "      <td>United States</td>\n",
              "      <td>Fort Lauderdale</td>\n",
              "      <td>...</td>\n",
              "      <td>33311.0</td>\n",
              "      <td>South</td>\n",
              "      <td>FUR-TA-10000577</td>\n",
              "      <td>Furniture</td>\n",
              "      <td>Tables</td>\n",
              "      <td>Bretford CR4500 Series Slim Rectangular Table</td>\n",
              "      <td>957.5775</td>\n",
              "      <td>5</td>\n",
              "      <td>0.45</td>\n",
              "      <td>-383.0310</td>\n",
              "    </tr>\n",
              "    <tr>\n",
              "      <th>4</th>\n",
              "      <td>5</td>\n",
              "      <td>US-2018-108966</td>\n",
              "      <td>10/11/2018</td>\n",
              "      <td>10/18/2018</td>\n",
              "      <td>Standard Class</td>\n",
              "      <td>SO-20335</td>\n",
              "      <td>Sean O'Donnell</td>\n",
              "      <td>Consumer</td>\n",
              "      <td>United States</td>\n",
              "      <td>Fort Lauderdale</td>\n",
              "      <td>...</td>\n",
              "      <td>33311.0</td>\n",
              "      <td>South</td>\n",
              "      <td>OFF-ST-10000760</td>\n",
              "      <td>Office Supplies</td>\n",
              "      <td>Storage</td>\n",
              "      <td>Eldon Fold 'N Roll Cart System</td>\n",
              "      <td>22.3680</td>\n",
              "      <td>2</td>\n",
              "      <td>0.20</td>\n",
              "      <td>2.5164</td>\n",
              "    </tr>\n",
              "  </tbody>\n",
              "</table>\n",
              "<p>5 rows × 21 columns</p>\n",
              "</div>"
            ]
          },
          "metadata": {},
          "output_type": "display_data"
        }
      ],
      "metadata": {
        "datalore": {
          "node_id": "XgftcBEOhhv4oEmh5KOxR6",
          "type": "CODE",
          "hide_input_from_viewers": false,
          "hide_output_from_viewers": false,
          "report_properties": {
            "rowId": "8GbNZwXNtdVsrRJD3iFTpf"
          }
        },
        "id": "OFviuwtYNXi-",
        "outputId": "ff8f13da-7610-4021-ff2e-8864eb3852eb"
      }
    },
    {
      "cell_type": "code",
      "source": [
        "# Preview last 5 row\n",
        "df.tail()"
      ],
      "execution_count": null,
      "outputs": [
        {
          "data": {
            "text/html": [
              "<div>\n",
              "<style scoped>\n",
              "    .dataframe tbody tr th:only-of-type {\n",
              "        vertical-align: middle;\n",
              "    }\n",
              "\n",
              "    .dataframe tbody tr th {\n",
              "        vertical-align: top;\n",
              "    }\n",
              "\n",
              "    .dataframe thead th {\n",
              "        text-align: right;\n",
              "    }\n",
              "</style>\n",
              "<table border=\"1\" class=\"dataframe\">\n",
              "  <thead>\n",
              "    <tr style=\"text-align: right;\">\n",
              "      <th></th>\n",
              "      <th>Row ID</th>\n",
              "      <th>Order ID</th>\n",
              "      <th>Order Date</th>\n",
              "      <th>Ship Date</th>\n",
              "      <th>Ship Mode</th>\n",
              "      <th>Customer ID</th>\n",
              "      <th>Customer Name</th>\n",
              "      <th>Segment</th>\n",
              "      <th>Country/Region</th>\n",
              "      <th>City</th>\n",
              "      <th>...</th>\n",
              "      <th>Postal Code</th>\n",
              "      <th>Region</th>\n",
              "      <th>Product ID</th>\n",
              "      <th>Category</th>\n",
              "      <th>Sub-Category</th>\n",
              "      <th>Product Name</th>\n",
              "      <th>Sales</th>\n",
              "      <th>Quantity</th>\n",
              "      <th>Discount</th>\n",
              "      <th>Profit</th>\n",
              "    </tr>\n",
              "  </thead>\n",
              "  <tbody>\n",
              "    <tr>\n",
              "      <th>9989</th>\n",
              "      <td>9990</td>\n",
              "      <td>CA-2017-110422</td>\n",
              "      <td>1/21/2017</td>\n",
              "      <td>1/23/2017</td>\n",
              "      <td>Second Class</td>\n",
              "      <td>TB-21400</td>\n",
              "      <td>Tom Boeckenhauer</td>\n",
              "      <td>Consumer</td>\n",
              "      <td>United States</td>\n",
              "      <td>Miami</td>\n",
              "      <td>...</td>\n",
              "      <td>33180.0</td>\n",
              "      <td>South</td>\n",
              "      <td>FUR-FU-10001889</td>\n",
              "      <td>Furniture</td>\n",
              "      <td>Furnishings</td>\n",
              "      <td>Ultra Door Pull Handle</td>\n",
              "      <td>25.248</td>\n",
              "      <td>3</td>\n",
              "      <td>0.2</td>\n",
              "      <td>4.1028</td>\n",
              "    </tr>\n",
              "    <tr>\n",
              "      <th>9990</th>\n",
              "      <td>9991</td>\n",
              "      <td>CA-2020-121258</td>\n",
              "      <td>2/26/2020</td>\n",
              "      <td>3/3/2020</td>\n",
              "      <td>Standard Class</td>\n",
              "      <td>DB-13060</td>\n",
              "      <td>Dave Brooks</td>\n",
              "      <td>Consumer</td>\n",
              "      <td>United States</td>\n",
              "      <td>Costa Mesa</td>\n",
              "      <td>...</td>\n",
              "      <td>92627.0</td>\n",
              "      <td>West</td>\n",
              "      <td>FUR-FU-10000747</td>\n",
              "      <td>Furniture</td>\n",
              "      <td>Furnishings</td>\n",
              "      <td>Tenex B1-RE Series Chair Mats for Low Pile Car...</td>\n",
              "      <td>91.960</td>\n",
              "      <td>2</td>\n",
              "      <td>0.0</td>\n",
              "      <td>15.6332</td>\n",
              "    </tr>\n",
              "    <tr>\n",
              "      <th>9991</th>\n",
              "      <td>9992</td>\n",
              "      <td>CA-2020-121258</td>\n",
              "      <td>2/26/2020</td>\n",
              "      <td>3/3/2020</td>\n",
              "      <td>Standard Class</td>\n",
              "      <td>DB-13060</td>\n",
              "      <td>Dave Brooks</td>\n",
              "      <td>Consumer</td>\n",
              "      <td>United States</td>\n",
              "      <td>Costa Mesa</td>\n",
              "      <td>...</td>\n",
              "      <td>92627.0</td>\n",
              "      <td>West</td>\n",
              "      <td>TEC-PH-10003645</td>\n",
              "      <td>Technology</td>\n",
              "      <td>Phones</td>\n",
              "      <td>Aastra 57i VoIP phone</td>\n",
              "      <td>258.576</td>\n",
              "      <td>2</td>\n",
              "      <td>0.2</td>\n",
              "      <td>19.3932</td>\n",
              "    </tr>\n",
              "    <tr>\n",
              "      <th>9992</th>\n",
              "      <td>9993</td>\n",
              "      <td>CA-2020-121258</td>\n",
              "      <td>2/26/2020</td>\n",
              "      <td>3/3/2020</td>\n",
              "      <td>Standard Class</td>\n",
              "      <td>DB-13060</td>\n",
              "      <td>Dave Brooks</td>\n",
              "      <td>Consumer</td>\n",
              "      <td>United States</td>\n",
              "      <td>Costa Mesa</td>\n",
              "      <td>...</td>\n",
              "      <td>92627.0</td>\n",
              "      <td>West</td>\n",
              "      <td>OFF-PA-10004041</td>\n",
              "      <td>Office Supplies</td>\n",
              "      <td>Paper</td>\n",
              "      <td>It's Hot Message Books with Stickers, 2 3/4\" x 5\"</td>\n",
              "      <td>29.600</td>\n",
              "      <td>4</td>\n",
              "      <td>0.0</td>\n",
              "      <td>13.3200</td>\n",
              "    </tr>\n",
              "    <tr>\n",
              "      <th>9993</th>\n",
              "      <td>9994</td>\n",
              "      <td>CA-2020-119914</td>\n",
              "      <td>5/4/2020</td>\n",
              "      <td>5/9/2020</td>\n",
              "      <td>Second Class</td>\n",
              "      <td>CC-12220</td>\n",
              "      <td>Chris Cortes</td>\n",
              "      <td>Consumer</td>\n",
              "      <td>United States</td>\n",
              "      <td>Westminster</td>\n",
              "      <td>...</td>\n",
              "      <td>92683.0</td>\n",
              "      <td>West</td>\n",
              "      <td>OFF-AP-10002684</td>\n",
              "      <td>Office Supplies</td>\n",
              "      <td>Appliances</td>\n",
              "      <td>Acco 7-Outlet Masterpiece Power Center, Wihtou...</td>\n",
              "      <td>243.160</td>\n",
              "      <td>2</td>\n",
              "      <td>0.0</td>\n",
              "      <td>72.9480</td>\n",
              "    </tr>\n",
              "  </tbody>\n",
              "</table>\n",
              "<p>5 rows × 21 columns</p>\n",
              "</div>"
            ]
          },
          "metadata": {},
          "output_type": "display_data"
        }
      ],
      "metadata": {
        "datalore": {
          "node_id": "W6dz50ovwmKm8V5kEsIqi9",
          "type": "CODE",
          "hide_input_from_viewers": false,
          "hide_output_from_viewers": false,
          "report_properties": {
            "rowId": "areylBX4rIUPEr9kTh4FGw"
          }
        },
        "id": "x3OtIJu4NXjA",
        "outputId": "68914baf-d5dc-4539-b9be-9e361fca5bae"
      }
    },
    {
      "cell_type": "code",
      "source": [
        "# Shape of dataframe\n",
        "df.shape"
      ],
      "execution_count": null,
      "outputs": [
        {
          "data": {
            "text/plain": [
              "(9994, 21)"
            ]
          },
          "metadata": {},
          "output_type": "display_data"
        }
      ],
      "metadata": {
        "datalore": {
          "node_id": "6AxE9FnZLCqQnV3m5VBCTN",
          "type": "CODE",
          "hide_input_from_viewers": false,
          "hide_output_from_viewers": false,
          "report_properties": {
            "rowId": "U7CSnLeIzBh5X93qFwfVXj"
          }
        },
        "id": "IcnI0L1mNXjA",
        "outputId": "9eb97936-671e-4606-9659-9d5cfc0c4041"
      }
    },
    {
      "cell_type": "code",
      "source": [
        "# See data frame information using .info()\n",
        "df.info()"
      ],
      "execution_count": null,
      "outputs": [
        {
          "name": "stdout",
          "text": [
            "<class 'pandas.core.frame.DataFrame'>\n",
            "RangeIndex: 9994 entries, 0 to 9993\n",
            "Data columns (total 21 columns):\n",
            " #   Column          Non-Null Count  Dtype  \n",
            "---  ------          --------------  -----  \n",
            " 0   Row ID          9994 non-null   int64  \n",
            " 1   Order ID        9994 non-null   object \n",
            " 2   Order Date      9994 non-null   object \n",
            " 3   Ship Date       9994 non-null   object \n",
            " 4   Ship Mode       9994 non-null   object \n",
            " 5   Customer ID     9994 non-null   object \n",
            " 6   Customer Name   9994 non-null   object \n",
            " 7   Segment         9994 non-null   object \n",
            " 8   Country/Region  9994 non-null   object \n",
            " 9   City            9994 non-null   object \n",
            " 10  State           9994 non-null   object \n",
            " 11  Postal Code     9983 non-null   float64\n",
            " 12  Region          9994 non-null   object \n",
            " 13  Product ID      9994 non-null   object \n",
            " 14  Category        9994 non-null   object \n",
            " 15  Sub-Category    9994 non-null   object \n",
            " 16  Product Name    9994 non-null   object \n",
            " 17  Sales           9994 non-null   float64\n",
            " 18  Quantity        9994 non-null   int64  \n",
            " 19  Discount        9994 non-null   float64\n",
            " 20  Profit          9994 non-null   float64\n",
            "dtypes: float64(4), int64(2), object(15)\n",
            "memory usage: 1.6+ MB\n"
          ],
          "output_type": "stream"
        }
      ],
      "metadata": {
        "datalore": {
          "node_id": "jUmaqW6Q5JD2uWj9oqFcc9",
          "type": "CODE",
          "hide_input_from_viewers": false,
          "hide_output_from_viewers": false,
          "report_properties": {
            "rowId": "BEUufTyGJfwiwlgpeZYijB"
          }
        },
        "id": "JAvY3VCvNXjB",
        "outputId": "4a9eb0f6-e51d-4242-dc2b-ee755a5cf9a8"
      }
    },
    {
      "cell_type": "markdown",
      "source": [
        "We can use `pd.to_datetime()` function to convert columns 'Order Date' and 'Ship Date' to datetime."
      ],
      "metadata": {
        "datalore": {
          "node_id": "g0G2vKNjj4GljnwSpyDWa8",
          "type": "MD",
          "hide_input_from_viewers": false,
          "hide_output_from_viewers": false,
          "report_properties": {
            "rowId": "oX7o6eDz2aXiDMhFzBLyQz"
          }
        },
        "id": "SwZltZ8wNXjC"
      }
    },
    {
      "cell_type": "code",
      "source": [
        "# pd.to_datetime() function\n",
        "pd.to_datetime(df['Order Date'].head(), format='%d/%m/%Y')"
      ],
      "execution_count": null,
      "outputs": [
        {
          "data": {
            "text/html": []
          },
          "metadata": {},
          "output_type": "display_data"
        }
      ],
      "metadata": {
        "datalore": {
          "node_id": "euekYGrFL03Rkbv3673xyw",
          "type": "CODE",
          "hide_input_from_viewers": false,
          "hide_output_from_viewers": false,
          "report_properties": {
            "rowId": "SvbWfYQGbTBBZfaqrS1g71"
          }
        },
        "id": "f9z49tRTNXjD",
        "outputId": "d008d179-8255-4ca6-859e-957e84711394"
      }
    },
    {
      "cell_type": "code",
      "source": [
        "# Convert order date and ship date to datetime in the original dataframe\n",
        "df['Order Date'] = pd.to_datetime(df['Order Date'])\n",
        "df['Ship Date'] = pd.to_datetime(df['Ship Date'])\n",
        "\n",
        "df.info() # Dataype has been updated"
      ],
      "execution_count": null,
      "outputs": [
        {
          "name": "stdout",
          "text": [
            "<class 'pandas.core.frame.DataFrame'>\n",
            "RangeIndex: 9994 entries, 0 to 9993\n",
            "Data columns (total 21 columns):\n",
            " #   Column          Non-Null Count  Dtype         \n",
            "---  ------          --------------  -----         \n",
            " 0   Row ID          9994 non-null   int64         \n",
            " 1   Order ID        9994 non-null   object        \n",
            " 2   Order Date      9994 non-null   datetime64[ns]\n",
            " 3   Ship Date       9994 non-null   datetime64[ns]\n",
            " 4   Ship Mode       9994 non-null   object        \n",
            " 5   Customer ID     9994 non-null   object        \n",
            " 6   Customer Name   9994 non-null   object        \n",
            " 7   Segment         9994 non-null   object        \n",
            " 8   Country/Region  9994 non-null   object        \n",
            " 9   City            9994 non-null   object        \n",
            " 10  State           9994 non-null   object        \n",
            " 11  Postal Code     9983 non-null   float64       \n",
            " 12  Region          9994 non-null   object        \n",
            " 13  Product ID      9994 non-null   object        \n",
            " 14  Category        9994 non-null   object        \n",
            " 15  Sub-Category    9994 non-null   object        \n",
            " 16  Product Name    9994 non-null   object        \n",
            " 17  Sales           9994 non-null   float64       \n",
            " 18  Quantity        9994 non-null   int64         \n",
            " 19  Discount        9994 non-null   float64       \n",
            " 20  Profit          9994 non-null   float64       \n",
            "dtypes: datetime64[ns](2), float64(4), int64(2), object(13)\n",
            "memory usage: 1.6+ MB\n"
          ],
          "output_type": "stream"
        }
      ],
      "metadata": {
        "datalore": {
          "node_id": "VRDSz9i190iPbxUIx3CdWA",
          "type": "CODE",
          "hide_input_from_viewers": false,
          "hide_output_from_viewers": false,
          "report_properties": {
            "rowId": "aThyQLhfn0mPE3uk9mBQx5"
          }
        },
        "id": "Zm5FUsghNXjD",
        "outputId": "f9189450-24ec-4964-baa1-991ee7c332af"
      }
    },
    {
      "cell_type": "code",
      "source": [
        "# Count null data in postal code column\n",
        "df['Postal Code'].isna().sum()"
      ],
      "execution_count": null,
      "outputs": [
        {
          "data": {
            "text/plain": [
              "11"
            ]
          },
          "metadata": {},
          "output_type": "display_data"
        }
      ],
      "metadata": {
        "datalore": {
          "node_id": "CQPQnDGn8azU9Yu9Ftxlz3",
          "type": "CODE",
          "hide_input_from_viewers": false,
          "hide_output_from_viewers": false,
          "report_properties": {
            "rowId": "RStzOOiDosVu2geb6BGjGq"
          }
        },
        "id": "THY8q2wkNXjE",
        "outputId": "b145ac32-7fac-4c3f-ae97-5f336f617e92"
      }
    },
    {
      "cell_type": "code",
      "source": [
        "# Filter rows with missing values\n",
        "df.isna().sum()"
      ],
      "execution_count": null,
      "outputs": [
        {
          "data": {
            "text/html": []
          },
          "metadata": {},
          "output_type": "display_data"
        }
      ],
      "metadata": {
        "datalore": {
          "node_id": "hhohrsoSNQZgdj81iKlL3U",
          "type": "CODE",
          "hide_input_from_viewers": false,
          "hide_output_from_viewers": false,
          "report_properties": {
            "rowId": "oY20Uy2lbBMmySanFoR3Xo"
          }
        },
        "id": "y1cklEHyNXjF",
        "outputId": "ed7e0b56-a530-4a78-c52c-009bcc4723b2"
      }
    },
    {
      "cell_type": "code",
      "source": [
        "# Explore dataset\n",
        "df.describe()"
      ],
      "execution_count": null,
      "outputs": [
        {
          "data": {
            "text/html": [
              "<div>\n",
              "<style scoped>\n",
              "    .dataframe tbody tr th:only-of-type {\n",
              "        vertical-align: middle;\n",
              "    }\n",
              "\n",
              "    .dataframe tbody tr th {\n",
              "        vertical-align: top;\n",
              "    }\n",
              "\n",
              "    .dataframe thead th {\n",
              "        text-align: right;\n",
              "    }\n",
              "</style>\n",
              "<table border=\"1\" class=\"dataframe\">\n",
              "  <thead>\n",
              "    <tr style=\"text-align: right;\">\n",
              "      <th></th>\n",
              "      <th>Row ID</th>\n",
              "      <th>Postal Code</th>\n",
              "      <th>Sales</th>\n",
              "      <th>Quantity</th>\n",
              "      <th>Discount</th>\n",
              "      <th>Profit</th>\n",
              "    </tr>\n",
              "  </thead>\n",
              "  <tbody>\n",
              "    <tr>\n",
              "      <th>count</th>\n",
              "      <td>9994.000000</td>\n",
              "      <td>9983.000000</td>\n",
              "      <td>9994.000000</td>\n",
              "      <td>9994.000000</td>\n",
              "      <td>9994.000000</td>\n",
              "      <td>9994.000000</td>\n",
              "    </tr>\n",
              "    <tr>\n",
              "      <th>mean</th>\n",
              "      <td>4997.500000</td>\n",
              "      <td>55245.233297</td>\n",
              "      <td>229.858001</td>\n",
              "      <td>3.789574</td>\n",
              "      <td>0.156203</td>\n",
              "      <td>28.656896</td>\n",
              "    </tr>\n",
              "    <tr>\n",
              "      <th>std</th>\n",
              "      <td>2885.163629</td>\n",
              "      <td>32038.715955</td>\n",
              "      <td>623.245101</td>\n",
              "      <td>2.225110</td>\n",
              "      <td>0.206452</td>\n",
              "      <td>234.260108</td>\n",
              "    </tr>\n",
              "    <tr>\n",
              "      <th>min</th>\n",
              "      <td>1.000000</td>\n",
              "      <td>1040.000000</td>\n",
              "      <td>0.444000</td>\n",
              "      <td>1.000000</td>\n",
              "      <td>0.000000</td>\n",
              "      <td>-6599.978000</td>\n",
              "    </tr>\n",
              "    <tr>\n",
              "      <th>25%</th>\n",
              "      <td>2499.250000</td>\n",
              "      <td>23223.000000</td>\n",
              "      <td>17.280000</td>\n",
              "      <td>2.000000</td>\n",
              "      <td>0.000000</td>\n",
              "      <td>1.728750</td>\n",
              "    </tr>\n",
              "    <tr>\n",
              "      <th>50%</th>\n",
              "      <td>4997.500000</td>\n",
              "      <td>57103.000000</td>\n",
              "      <td>54.490000</td>\n",
              "      <td>3.000000</td>\n",
              "      <td>0.200000</td>\n",
              "      <td>8.666500</td>\n",
              "    </tr>\n",
              "    <tr>\n",
              "      <th>75%</th>\n",
              "      <td>7495.750000</td>\n",
              "      <td>90008.000000</td>\n",
              "      <td>209.940000</td>\n",
              "      <td>5.000000</td>\n",
              "      <td>0.200000</td>\n",
              "      <td>29.364000</td>\n",
              "    </tr>\n",
              "    <tr>\n",
              "      <th>max</th>\n",
              "      <td>9994.000000</td>\n",
              "      <td>99301.000000</td>\n",
              "      <td>22638.480000</td>\n",
              "      <td>14.000000</td>\n",
              "      <td>0.800000</td>\n",
              "      <td>8399.976000</td>\n",
              "    </tr>\n",
              "  </tbody>\n",
              "</table>\n",
              "</div>"
            ]
          },
          "metadata": {},
          "output_type": "display_data"
        }
      ],
      "metadata": {
        "datalore": {
          "node_id": "xTgKAzk25qsm4TuVvz8RqZ",
          "type": "CODE",
          "hide_input_from_viewers": false,
          "hide_output_from_viewers": false,
          "report_properties": {
            "rowId": "0Qn1br1GiGDOUmRgewRow7"
          }
        },
        "id": "3VFprtzTNXjG",
        "outputId": "b0887d13-1d26-4249-b5be-7178affb0c9d"
      }
    },
    {
      "cell_type": "markdown",
      "source": [
        "## Data Analysis Part\n",
        "\n",
        "Write `pandas` code to find answers."
      ],
      "metadata": {
        "datalore": {
          "node_id": "JShU2Ky9cVSeTf4HUcQXCH",
          "type": "MD",
          "hide_input_from_viewers": false,
          "hide_output_from_viewers": false,
          "report_properties": {
            "rowId": "0CWnZN0o2dANha2guOY7to"
          }
        },
        "id": "dA1Zkv3INXjG"
      }
    },
    {
      "cell_type": "code",
      "source": [
        "# TODO 01 - how many columns, rows in this dataset\n",
        "df.shape\n",
        "print(f'{df.shape[0]} Rows & {df.shape[1]} Columns')"
      ],
      "execution_count": null,
      "outputs": [
        {
          "name": "stdout",
          "text": [
            "9994 Rows & 21 Columns\n"
          ],
          "output_type": "stream"
        }
      ],
      "metadata": {
        "datalore": {
          "node_id": "iHRqfNrxeHqxu6KYPujwGY",
          "type": "CODE",
          "hide_input_from_viewers": false,
          "hide_output_from_viewers": false,
          "report_properties": {
            "rowId": "CpKupkMNnryOkzjGo1ttZX"
          }
        },
        "id": "1ZcpG6INNXjH",
        "outputId": "026bfa42-5721-408f-bdc5-5ef8bd7c544a"
      }
    },
    {
      "cell_type": "code",
      "source": [
        "# TODO 02 - is there any missing values?, if there is, which colunm? how many nan values?\n",
        "df.isna().sum()"
      ],
      "execution_count": null,
      "outputs": [
        {
          "data": {
            "text/html": []
          },
          "metadata": {},
          "output_type": "display_data"
        }
      ],
      "metadata": {
        "datalore": {
          "node_id": "HDRU3Rc86z3GBHVCcbzNja",
          "type": "CODE",
          "hide_input_from_viewers": false,
          "hide_output_from_viewers": false,
          "report_properties": {
            "rowId": "IiIpL8mnTTKfh1KHKNZfQa"
          }
        },
        "id": "ZHryvMZPNXjH",
        "outputId": "8f7c8856-84c5-4196-f9ad-cc1a07eb3d62"
      }
    },
    {
      "cell_type": "code",
      "source": [
        "# TODO 03 - your friend ask for `California` data, filter it and export csv for him\n",
        "california = df[ df['State'] == 'California' ]\n",
        "california.to_csv('california.csv')"
      ],
      "execution_count": null,
      "outputs": [],
      "metadata": {
        "datalore": {
          "node_id": "O5JbgdndnEdJoqSQLaR7nu",
          "type": "CODE",
          "hide_input_from_viewers": false,
          "hide_output_from_viewers": false,
          "report_properties": {
            "rowId": "5TKiSPf2sTHaiSzhh6AZdY"
          }
        },
        "id": "ijfZOhXmNXjH"
      }
    },
    {
      "cell_type": "code",
      "source": [
        "# TODO 04 - your friend ask for all order data in `California` and `Texas` in 2017 (look at Order Date), send him csv file\n",
        "\n",
        "Cal_Tex = df[(df['State'] == 'California') | (df['State'] == 'Texas')]\n",
        "Cal_tex_in2017 = Cal_Tex[df['Order Date'].dt.year == 2017].sort_values(by=['State', 'Order Date']).reset_index()\n",
        "\n",
        "Cal_tex_in2017.to_csv('California_Texas_2017.csv')\n",
        "\n",
        "Cal_tex_in2017"
      ],
      "execution_count": null,
      "outputs": [
        {
          "name": "stderr",
          "text": [
            "<ipython-input-17-0b557d86e7eb>:4: UserWarning: Boolean Series key will be reindexed to match DataFrame index.\n",
            "  Cal_tex_in2017 = Cal_Tex[df['Order Date'].dt.year == 2017].sort_values(by=['State', 'Order Date']).reset_index()\n"
          ],
          "output_type": "stream"
        },
        {
          "data": {
            "text/html": [
              "<div>\n",
              "<style scoped>\n",
              "    .dataframe tbody tr th:only-of-type {\n",
              "        vertical-align: middle;\n",
              "    }\n",
              "\n",
              "    .dataframe tbody tr th {\n",
              "        vertical-align: top;\n",
              "    }\n",
              "\n",
              "    .dataframe thead th {\n",
              "        text-align: right;\n",
              "    }\n",
              "</style>\n",
              "<table border=\"1\" class=\"dataframe\">\n",
              "  <thead>\n",
              "    <tr style=\"text-align: right;\">\n",
              "      <th></th>\n",
              "      <th>index</th>\n",
              "      <th>Row ID</th>\n",
              "      <th>Order ID</th>\n",
              "      <th>Order Date</th>\n",
              "      <th>Ship Date</th>\n",
              "      <th>Ship Mode</th>\n",
              "      <th>Customer ID</th>\n",
              "      <th>Customer Name</th>\n",
              "      <th>Segment</th>\n",
              "      <th>Country/Region</th>\n",
              "      <th>...</th>\n",
              "      <th>Postal Code</th>\n",
              "      <th>Region</th>\n",
              "      <th>Product ID</th>\n",
              "      <th>Category</th>\n",
              "      <th>Sub-Category</th>\n",
              "      <th>Product Name</th>\n",
              "      <th>Sales</th>\n",
              "      <th>Quantity</th>\n",
              "      <th>Discount</th>\n",
              "      <th>Profit</th>\n",
              "    </tr>\n",
              "  </thead>\n",
              "  <tbody>\n",
              "    <tr>\n",
              "      <th>0</th>\n",
              "      <td>5327</td>\n",
              "      <td>5328</td>\n",
              "      <td>CA-2017-130813</td>\n",
              "      <td>2017-01-06</td>\n",
              "      <td>2017-01-08</td>\n",
              "      <td>Second Class</td>\n",
              "      <td>LS-17230</td>\n",
              "      <td>Lycoris Saunders</td>\n",
              "      <td>Consumer</td>\n",
              "      <td>United States</td>\n",
              "      <td>...</td>\n",
              "      <td>90049.0</td>\n",
              "      <td>West</td>\n",
              "      <td>OFF-PA-10002005</td>\n",
              "      <td>Office Supplies</td>\n",
              "      <td>Paper</td>\n",
              "      <td>Xerox 225</td>\n",
              "      <td>19.440</td>\n",
              "      <td>3</td>\n",
              "      <td>0.00</td>\n",
              "      <td>9.3312</td>\n",
              "    </tr>\n",
              "    <tr>\n",
              "      <th>1</th>\n",
              "      <td>4937</td>\n",
              "      <td>4938</td>\n",
              "      <td>CA-2017-157147</td>\n",
              "      <td>2017-01-13</td>\n",
              "      <td>2017-01-18</td>\n",
              "      <td>Standard Class</td>\n",
              "      <td>BD-11605</td>\n",
              "      <td>Brian Dahlen</td>\n",
              "      <td>Consumer</td>\n",
              "      <td>United States</td>\n",
              "      <td>...</td>\n",
              "      <td>94109.0</td>\n",
              "      <td>West</td>\n",
              "      <td>OFF-ST-10000078</td>\n",
              "      <td>Office Supplies</td>\n",
              "      <td>Storage</td>\n",
              "      <td>Tennsco 6- and 18-Compartment Lockers</td>\n",
              "      <td>1325.850</td>\n",
              "      <td>5</td>\n",
              "      <td>0.00</td>\n",
              "      <td>238.6530</td>\n",
              "    </tr>\n",
              "    <tr>\n",
              "      <th>2</th>\n",
              "      <td>4938</td>\n",
              "      <td>4939</td>\n",
              "      <td>CA-2017-157147</td>\n",
              "      <td>2017-01-13</td>\n",
              "      <td>2017-01-18</td>\n",
              "      <td>Standard Class</td>\n",
              "      <td>BD-11605</td>\n",
              "      <td>Brian Dahlen</td>\n",
              "      <td>Consumer</td>\n",
              "      <td>United States</td>\n",
              "      <td>...</td>\n",
              "      <td>94109.0</td>\n",
              "      <td>West</td>\n",
              "      <td>FUR-BO-10003034</td>\n",
              "      <td>Furniture</td>\n",
              "      <td>Bookcases</td>\n",
              "      <td>O'Sullivan Elevations Bookcase, Cherry Finish</td>\n",
              "      <td>333.999</td>\n",
              "      <td>3</td>\n",
              "      <td>0.15</td>\n",
              "      <td>3.9294</td>\n",
              "    </tr>\n",
              "    <tr>\n",
              "      <th>3</th>\n",
              "      <td>4939</td>\n",
              "      <td>4940</td>\n",
              "      <td>CA-2017-157147</td>\n",
              "      <td>2017-01-13</td>\n",
              "      <td>2017-01-18</td>\n",
              "      <td>Standard Class</td>\n",
              "      <td>BD-11605</td>\n",
              "      <td>Brian Dahlen</td>\n",
              "      <td>Consumer</td>\n",
              "      <td>United States</td>\n",
              "      <td>...</td>\n",
              "      <td>94109.0</td>\n",
              "      <td>West</td>\n",
              "      <td>OFF-AR-10003514</td>\n",
              "      <td>Office Supplies</td>\n",
              "      <td>Art</td>\n",
              "      <td>4009 Highlighters by Sanford</td>\n",
              "      <td>19.900</td>\n",
              "      <td>5</td>\n",
              "      <td>0.00</td>\n",
              "      <td>6.5670</td>\n",
              "    </tr>\n",
              "    <tr>\n",
              "      <th>4</th>\n",
              "      <td>5736</td>\n",
              "      <td>5737</td>\n",
              "      <td>CA-2017-148614</td>\n",
              "      <td>2017-01-20</td>\n",
              "      <td>2017-01-25</td>\n",
              "      <td>Standard Class</td>\n",
              "      <td>MV-17485</td>\n",
              "      <td>Mark Van Huff</td>\n",
              "      <td>Consumer</td>\n",
              "      <td>United States</td>\n",
              "      <td>...</td>\n",
              "      <td>90049.0</td>\n",
              "      <td>West</td>\n",
              "      <td>OFF-PA-10002893</td>\n",
              "      <td>Office Supplies</td>\n",
              "      <td>Paper</td>\n",
              "      <td>Wirebound Service Call Books, 5 1/2\" x 4\"</td>\n",
              "      <td>19.360</td>\n",
              "      <td>2</td>\n",
              "      <td>0.00</td>\n",
              "      <td>9.2928</td>\n",
              "    </tr>\n",
              "    <tr>\n",
              "      <th>...</th>\n",
              "      <td>...</td>\n",
              "      <td>...</td>\n",
              "      <td>...</td>\n",
              "      <td>...</td>\n",
              "      <td>...</td>\n",
              "      <td>...</td>\n",
              "      <td>...</td>\n",
              "      <td>...</td>\n",
              "      <td>...</td>\n",
              "      <td>...</td>\n",
              "      <td>...</td>\n",
              "      <td>...</td>\n",
              "      <td>...</td>\n",
              "      <td>...</td>\n",
              "      <td>...</td>\n",
              "      <td>...</td>\n",
              "      <td>...</td>\n",
              "      <td>...</td>\n",
              "      <td>...</td>\n",
              "      <td>...</td>\n",
              "      <td>...</td>\n",
              "    </tr>\n",
              "    <tr>\n",
              "      <th>627</th>\n",
              "      <td>3305</td>\n",
              "      <td>3306</td>\n",
              "      <td>CA-2017-104738</td>\n",
              "      <td>2017-12-30</td>\n",
              "      <td>2018-01-01</td>\n",
              "      <td>Second Class</td>\n",
              "      <td>SP-20620</td>\n",
              "      <td>Stefania Perrino</td>\n",
              "      <td>Corporate</td>\n",
              "      <td>United States</td>\n",
              "      <td>...</td>\n",
              "      <td>78041.0</td>\n",
              "      <td>Central</td>\n",
              "      <td>TEC-PH-10002468</td>\n",
              "      <td>Technology</td>\n",
              "      <td>Phones</td>\n",
              "      <td>Plantronics CS 50-USB - headset - Convertible,...</td>\n",
              "      <td>217.584</td>\n",
              "      <td>2</td>\n",
              "      <td>0.20</td>\n",
              "      <td>19.0386</td>\n",
              "    </tr>\n",
              "    <tr>\n",
              "      <th>628</th>\n",
              "      <td>3306</td>\n",
              "      <td>3307</td>\n",
              "      <td>CA-2017-104738</td>\n",
              "      <td>2017-12-30</td>\n",
              "      <td>2018-01-01</td>\n",
              "      <td>Second Class</td>\n",
              "      <td>SP-20620</td>\n",
              "      <td>Stefania Perrino</td>\n",
              "      <td>Corporate</td>\n",
              "      <td>United States</td>\n",
              "      <td>...</td>\n",
              "      <td>78041.0</td>\n",
              "      <td>Central</td>\n",
              "      <td>TEC-PH-10000576</td>\n",
              "      <td>Technology</td>\n",
              "      <td>Phones</td>\n",
              "      <td>AT&amp;T 1080 Corded phone</td>\n",
              "      <td>328.776</td>\n",
              "      <td>3</td>\n",
              "      <td>0.20</td>\n",
              "      <td>28.7679</td>\n",
              "    </tr>\n",
              "    <tr>\n",
              "      <th>629</th>\n",
              "      <td>3307</td>\n",
              "      <td>3308</td>\n",
              "      <td>CA-2017-104738</td>\n",
              "      <td>2017-12-30</td>\n",
              "      <td>2018-01-01</td>\n",
              "      <td>Second Class</td>\n",
              "      <td>SP-20620</td>\n",
              "      <td>Stefania Perrino</td>\n",
              "      <td>Corporate</td>\n",
              "      <td>United States</td>\n",
              "      <td>...</td>\n",
              "      <td>78041.0</td>\n",
              "      <td>Central</td>\n",
              "      <td>OFF-BI-10002160</td>\n",
              "      <td>Office Supplies</td>\n",
              "      <td>Binders</td>\n",
              "      <td>Acco Hanging Data Binders</td>\n",
              "      <td>2.286</td>\n",
              "      <td>3</td>\n",
              "      <td>0.80</td>\n",
              "      <td>-3.6576</td>\n",
              "    </tr>\n",
              "    <tr>\n",
              "      <th>630</th>\n",
              "      <td>3308</td>\n",
              "      <td>3309</td>\n",
              "      <td>CA-2017-104738</td>\n",
              "      <td>2017-12-30</td>\n",
              "      <td>2018-01-01</td>\n",
              "      <td>Second Class</td>\n",
              "      <td>SP-20620</td>\n",
              "      <td>Stefania Perrino</td>\n",
              "      <td>Corporate</td>\n",
              "      <td>United States</td>\n",
              "      <td>...</td>\n",
              "      <td>78041.0</td>\n",
              "      <td>Central</td>\n",
              "      <td>TEC-AC-10003628</td>\n",
              "      <td>Technology</td>\n",
              "      <td>Accessories</td>\n",
              "      <td>Logitech 910-002974 M325 Wireless Mouse for We...</td>\n",
              "      <td>47.984</td>\n",
              "      <td>2</td>\n",
              "      <td>0.20</td>\n",
              "      <td>14.3952</td>\n",
              "    </tr>\n",
              "    <tr>\n",
              "      <th>631</th>\n",
              "      <td>4558</td>\n",
              "      <td>4559</td>\n",
              "      <td>CA-2017-127383</td>\n",
              "      <td>2017-12-31</td>\n",
              "      <td>2018-01-05</td>\n",
              "      <td>Standard Class</td>\n",
              "      <td>CM-11815</td>\n",
              "      <td>Candace McMahon</td>\n",
              "      <td>Corporate</td>\n",
              "      <td>United States</td>\n",
              "      <td>...</td>\n",
              "      <td>79907.0</td>\n",
              "      <td>Central</td>\n",
              "      <td>OFF-EN-10004773</td>\n",
              "      <td>Office Supplies</td>\n",
              "      <td>Envelopes</td>\n",
              "      <td>Staple envelope</td>\n",
              "      <td>49.568</td>\n",
              "      <td>2</td>\n",
              "      <td>0.20</td>\n",
              "      <td>17.9684</td>\n",
              "    </tr>\n",
              "  </tbody>\n",
              "</table>\n",
              "<p>632 rows × 22 columns</p>\n",
              "</div>"
            ]
          },
          "metadata": {},
          "output_type": "display_data"
        }
      ],
      "metadata": {
        "datalore": {
          "node_id": "dJmCYwrsXK3fGbsaVhawpP",
          "type": "CODE",
          "hide_input_from_viewers": false,
          "hide_output_from_viewers": false,
          "report_properties": {
            "rowId": "cgXAncPxCj452C5Xx6nSIE"
          }
        },
        "id": "I-yxIz6mNXjI",
        "outputId": "276ab8a9-f634-4757-946d-f672aef1539f"
      }
    },
    {
      "cell_type": "code",
      "source": [
        "# TODO 05 - how much total sales, average sales, and standard deviation of sales your company make in 2017\n",
        "df[df['Order Date'].dt.strftime('%Y') == '2017']['Sales'].agg(['sum', 'mean', 'std'])"
      ],
      "execution_count": null,
      "outputs": [
        {
          "data": {
            "text/html": []
          },
          "metadata": {},
          "output_type": "display_data"
        }
      ],
      "metadata": {
        "datalore": {
          "node_id": "LvWgzEUocmejKd3Qh0m9s3",
          "type": "CODE",
          "hide_input_from_viewers": false,
          "hide_output_from_viewers": false,
          "report_properties": {
            "rowId": "Srljlmu2MseJskmsjd4TJV"
          }
        },
        "id": "_XqFCeUXNXjI",
        "outputId": "cfbfdf55-5bf7-438c-d9c0-41940b9624b2"
      }
    },
    {
      "cell_type": "code",
      "source": [
        "# TODO 06 - which Segment has the highest profit in 2018\n",
        "df[df['Order Date'].dt.strftime('%Y') == '2018'].groupby('Segment')['Profit'].sum()"
      ],
      "execution_count": null,
      "outputs": [
        {
          "data": {
            "text/html": []
          },
          "metadata": {},
          "output_type": "display_data"
        }
      ],
      "metadata": {
        "datalore": {
          "node_id": "5ZE1dRPey49BtLFHuthJlJ",
          "type": "CODE",
          "hide_input_from_viewers": false,
          "hide_output_from_viewers": false,
          "report_properties": {
            "rowId": "2ijhcMfX591u5J8zvtc0Ys"
          }
        },
        "id": "-pecSRCONXjI",
        "outputId": "fffa6ffa-e654-4a91-e32d-1f5100f76341"
      }
    },
    {
      "cell_type": "code",
      "source": [
        "# TODO 07 - which top 5 States have the least total sales between 15 April 2019 - 31 December 2019\n",
        "df[(df['Order Date'] >= '2019-04-15') & (df['Order Date'] <= '2019-12-31')]\\\n",
        ".groupby('State')['Sales'].min().head(5).sort_values(ascending=True)"
      ],
      "execution_count": null,
      "outputs": [
        {
          "data": {
            "text/html": []
          },
          "metadata": {},
          "output_type": "display_data"
        }
      ],
      "metadata": {
        "datalore": {
          "node_id": "VKG98fCW22qRsVUdiPyY1J",
          "type": "CODE",
          "hide_input_from_viewers": false,
          "hide_output_from_viewers": false,
          "report_properties": {
            "rowId": "ESdg3BgUdsh6Wjngx5KzZv"
          }
        },
        "id": "WzABnM27NXjJ",
        "outputId": "2fae52d4-9ecb-4a0a-eca0-72331b19e043"
      }
    },
    {
      "cell_type": "code",
      "source": [
        "# TODO 08 - what is the proportion of total sales (%) in West + Central in 2019 e.g. 25%\n",
        "year_2019 = df[df['Order Date'].dt.year == 2019]\n",
        "total_2019 = year_2019['Sales'].sum()\n",
        "prop_westcentral = year_2019[(year_2019['Region'] == \"West\") | (year_2019['Region'] == \"Central\")]['Sales']\\\n",
        ".sum()/total_2019*100\n",
        "\n",
        "print(f'= {prop_westcentral} %')"
      ],
      "execution_count": null,
      "outputs": [
        {
          "name": "stdout",
          "text": [
            "= 54.97479891837763 %\n"
          ],
          "output_type": "stream"
        }
      ],
      "metadata": {
        "datalore": {
          "node_id": "KLGybwBcIeXYfdYsQxg7kI",
          "type": "CODE",
          "hide_input_from_viewers": false,
          "hide_output_from_viewers": false,
          "report_properties": {
            "rowId": "elhxiLK9dvj99D2MgXVZem"
          }
        },
        "id": "oLJbR-XoNXjJ",
        "outputId": "68176170-3d20-48c2-dacc-244755646c05"
      }
    },
    {
      "cell_type": "code",
      "source": [
        "# TODO 09 - find top 10 popular products in terms of number of orders vs. total sales during 2019-2020\n",
        "\n",
        "df_year = df[df['Order Date'].dt.year.isin([2019, 2020])]\n",
        "\n",
        "top10_order = df_year.groupby('Product Name')['Sales']\\\n",
        "    .count().sort_values(ascending=False).reset_index().head(10)\n",
        "\n",
        "top10_sales = df_year.groupby('Product Name')['Sales']\\\n",
        "    .sum().sort_values(ascending=False).round(2).reset_index().head(10)\n",
        "\n",
        "top10_order.columns = ['Top 10 Order Product','Total Order']\n",
        "top10_sales.columns = ['Top 10 Sales Product','Total Sales']\n",
        "\n",
        "result = pd.merge(top10_order, top10_sales, left_index=True, right_index=True)\n",
        "#top10_order.join(top10_sales)\n",
        "\n",
        "result"
      ],
      "execution_count": null,
      "outputs": [
        {
          "data": {
            "text/html": [
              "<div>\n",
              "<style scoped>\n",
              "    .dataframe tbody tr th:only-of-type {\n",
              "        vertical-align: middle;\n",
              "    }\n",
              "\n",
              "    .dataframe tbody tr th {\n",
              "        vertical-align: top;\n",
              "    }\n",
              "\n",
              "    .dataframe thead th {\n",
              "        text-align: right;\n",
              "    }\n",
              "</style>\n",
              "<table border=\"1\" class=\"dataframe\">\n",
              "  <thead>\n",
              "    <tr style=\"text-align: right;\">\n",
              "      <th></th>\n",
              "      <th>Top 10 Order Product</th>\n",
              "      <th>Total Order</th>\n",
              "      <th>Top 10 Sales Product</th>\n",
              "      <th>Total Sales</th>\n",
              "    </tr>\n",
              "  </thead>\n",
              "  <tbody>\n",
              "    <tr>\n",
              "      <th>0</th>\n",
              "      <td>Easy-staple paper</td>\n",
              "      <td>27</td>\n",
              "      <td>Canon imageCLASS 2200 Advanced Copier</td>\n",
              "      <td>61599.82</td>\n",
              "    </tr>\n",
              "    <tr>\n",
              "      <th>1</th>\n",
              "      <td>Staples</td>\n",
              "      <td>24</td>\n",
              "      <td>Hewlett Packard LaserJet 3310 Copier</td>\n",
              "      <td>16079.73</td>\n",
              "    </tr>\n",
              "    <tr>\n",
              "      <th>2</th>\n",
              "      <td>Staple envelope</td>\n",
              "      <td>22</td>\n",
              "      <td>3D Systems Cube Printer, 2nd Generation, Magenta</td>\n",
              "      <td>14299.89</td>\n",
              "    </tr>\n",
              "    <tr>\n",
              "      <th>3</th>\n",
              "      <td>Staples in misc. colors</td>\n",
              "      <td>13</td>\n",
              "      <td>GBC Ibimaster 500 Manual ProClick Binding System</td>\n",
              "      <td>13621.54</td>\n",
              "    </tr>\n",
              "    <tr>\n",
              "      <th>4</th>\n",
              "      <td>Staple remover</td>\n",
              "      <td>12</td>\n",
              "      <td>GBC DocuBind TL300 Electric Binding System</td>\n",
              "      <td>12737.26</td>\n",
              "    </tr>\n",
              "    <tr>\n",
              "      <th>5</th>\n",
              "      <td>Storex Dura Pro Binders</td>\n",
              "      <td>12</td>\n",
              "      <td>GBC DocuBind P400 Electric Binding System</td>\n",
              "      <td>12521.11</td>\n",
              "    </tr>\n",
              "    <tr>\n",
              "      <th>6</th>\n",
              "      <td>Chromcraft Round Conference Tables</td>\n",
              "      <td>12</td>\n",
              "      <td>Samsung Galaxy Mega 6.3</td>\n",
              "      <td>12263.71</td>\n",
              "    </tr>\n",
              "    <tr>\n",
              "      <th>7</th>\n",
              "      <td>Global Wood Trimmed Manager's Task Chair, Khaki</td>\n",
              "      <td>11</td>\n",
              "      <td>HON 5400 Series Task Chairs for Big and Tall</td>\n",
              "      <td>11846.56</td>\n",
              "    </tr>\n",
              "    <tr>\n",
              "      <th>8</th>\n",
              "      <td>Avery Non-Stick Binders</td>\n",
              "      <td>11</td>\n",
              "      <td>Martin Yale Chadless Opener Electric Letter Op...</td>\n",
              "      <td>11825.90</td>\n",
              "    </tr>\n",
              "    <tr>\n",
              "      <th>9</th>\n",
              "      <td>Staple-based wall hangings</td>\n",
              "      <td>10</td>\n",
              "      <td>Global Troy Executive Leather Low-Back Tilter</td>\n",
              "      <td>10169.89</td>\n",
              "    </tr>\n",
              "  </tbody>\n",
              "</table>\n",
              "</div>"
            ]
          },
          "metadata": {},
          "output_type": "display_data"
        }
      ],
      "metadata": {
        "datalore": {
          "node_id": "0h64yPfwjVA9KLxckIINOP",
          "type": "CODE",
          "hide_input_from_viewers": false,
          "hide_output_from_viewers": false,
          "report_properties": {
            "rowId": "Y7Tz2mCBoxInyKl0L5qktx"
          }
        },
        "id": "o6BpouDvNXjK",
        "outputId": "db48d80a-914a-4a40-ca31-774a7028aa7c"
      }
    },
    {
      "cell_type": "code",
      "source": [
        "# TODO 10 - plot any plot you think interesting :)\n",
        "\n",
        "# Profit vs Sales in 2019-2020\n",
        "\n",
        "df_year.groupby('Region')['Profit','Sales'].sum().sort_values(by='Sales', ascending=False).reset_index()\\\n",
        "    .plot(kind='bar',x='Region', color = ['orange', 'salmon'], width = 0.7, figsize = (9,7),\n",
        "    title = 'Region Profit & Sales in 2019-2020');"
      ],
      "execution_count": null,
      "outputs": [
        {
          "name": "stderr",
          "text": [
            "<ipython-input-27-2383970a69e7>:4: FutureWarning: Indexing with multiple keys (implicitly converted to a tuple of keys) will be deprecated, use a list instead.\n",
            "  df_year.groupby('Region')['Profit','Sales'].sum().sort_values(by='Sales', ascending=False).reset_index()\\\n"
          ],
          "output_type": "stream"
        },
        {
          "data": {
            "image/png": "[encoded data removed]"
          },
          "metadata": {
            "image/png": {}
          },
          "output_type": "display_data"
        }
      ],
      "metadata": {
        "datalore": {
          "node_id": "e4qfQw8zoJmLhsEBWrCJkZ",
          "type": "CODE",
          "hide_input_from_viewers": false,
          "hide_output_from_viewers": false,
          "report_properties": {
            "rowId": "oYr31Rhj5LAehCYV1LFKJ3"
          }
        },
        "id": "sFhHcGpENXjK",
        "outputId": "d713e2c5-b727-401a-fffe-d191b4fa126a"
      }
    },
    {
      "cell_type": "code",
      "source": [
        "# Top 5 orders product during 2019-2020\n",
        "\n",
        "top10_order[['Top 10 Order Product', 'Total Order']].sort_values('Total Order', ascending=True).tail(10) \\\n",
        "    .plot(x='Top 10 Order Product', y='Total Order', kind='barh', figsize = (10,8),\n",
        "    title = 'Top 5 Order Product during 2019-2020', xlabel = \"Product\",\n",
        "    color=['gold','gold','gold','orange','salmon']);"
      ],
      "execution_count": null,
      "outputs": [
        {
          "data": {
            "image/png": "[encoded data removed]"
          },
          "metadata": {
            "image/png": {}
          },
          "output_type": "display_data"
        }
      ],
      "metadata": {
        "datalore": {
          "node_id": "v02F79fBDB22FXyeFfCwnY",
          "type": "CODE",
          "hide_input_from_viewers": false,
          "hide_output_from_viewers": false,
          "report_properties": {
            "rowId": "Mf3TsDkZFraDqbycapleyQ"
          }
        },
        "id": "nJ6BQQvjNXjK",
        "outputId": "b4e44a67-cb7a-4742-cf7b-3d07a1930467"
      }
    },
    {
      "cell_type": "code",
      "source": [
        "# Top 5 sales product during 2019-2020\n",
        "\n",
        "top10_sales[['Top 10 Sales Product', 'Total Sales']].sort_values('Total Sales', ascending=True).tail(10) \\\n",
        "    .plot(x='Top 10 Sales Product', y='Total Sales', kind='barh', figsize = (10,8),\n",
        "    title = 'Top 5 Sales Product during 2019-2020', xlabel = \"Product\",\n",
        "    color=['gold','gold','gold','orange','salmon']);"
      ],
      "execution_count": null,
      "outputs": [
        {
          "data": {
            "image/png": "[encoded data removed]"
          },
          "metadata": {
            "image/png": {}
          },
          "output_type": "display_data"
        }
      ],
      "metadata": {
        "datalore": {
          "node_id": "7Qipe0FwzxK1ldpOzuF1Ep",
          "type": "CODE",
          "hide_input_from_viewers": false,
          "hide_output_from_viewers": false,
          "report_properties": {
            "rowId": "bcubKn38t5EltZvTJXPC8M"
          }
        },
        "id": "pLwRARZfNXjL",
        "outputId": "2fee6151-96be-4967-d9cd-f96bff2c0155"
      }
    },
    {
      "cell_type": "code",
      "source": [
        "# use np.where() to create new column in dataframe to help you answer your own questions\n",
        "import numpy as np\n",
        "\n",
        "# Sales mean in California in 2019-2020\n",
        "mean = df_year['Sales'].mean()\n",
        "cali = df_year.query(\"State == 'California' \")[['State','Sales']].dropna()\n",
        "\n",
        "cali['mean'] = np.where(cali[\"Sales\"] >= mean, True, False)\n",
        "\n",
        "cali.head(10)"
      ],
      "execution_count": null,
      "outputs": [
        {
          "data": {
            "text/html": [
              "<div>\n",
              "<style scoped>\n",
              "    .dataframe tbody tr th:only-of-type {\n",
              "        vertical-align: middle;\n",
              "    }\n",
              "\n",
              "    .dataframe tbody tr th {\n",
              "        vertical-align: top;\n",
              "    }\n",
              "\n",
              "    .dataframe thead th {\n",
              "        text-align: right;\n",
              "    }\n",
              "</style>\n",
              "<table border=\"1\" class=\"dataframe\">\n",
              "  <thead>\n",
              "    <tr style=\"text-align: right;\">\n",
              "      <th></th>\n",
              "      <th>State</th>\n",
              "      <th>Sales</th>\n",
              "      <th>mean</th>\n",
              "    </tr>\n",
              "  </thead>\n",
              "  <tbody>\n",
              "    <tr>\n",
              "      <th>2</th>\n",
              "      <td>California</td>\n",
              "      <td>14.620</td>\n",
              "      <td>False</td>\n",
              "    </tr>\n",
              "    <tr>\n",
              "      <th>25</th>\n",
              "      <td>California</td>\n",
              "      <td>11.648</td>\n",
              "      <td>False</td>\n",
              "    </tr>\n",
              "    <tr>\n",
              "      <th>26</th>\n",
              "      <td>California</td>\n",
              "      <td>90.570</td>\n",
              "      <td>False</td>\n",
              "    </tr>\n",
              "    <tr>\n",
              "      <th>42</th>\n",
              "      <td>California</td>\n",
              "      <td>77.880</td>\n",
              "      <td>False</td>\n",
              "    </tr>\n",
              "    <tr>\n",
              "      <th>89</th>\n",
              "      <td>California</td>\n",
              "      <td>20.100</td>\n",
              "      <td>False</td>\n",
              "    </tr>\n",
              "    <tr>\n",
              "      <th>90</th>\n",
              "      <td>California</td>\n",
              "      <td>73.584</td>\n",
              "      <td>False</td>\n",
              "    </tr>\n",
              "    <tr>\n",
              "      <th>91</th>\n",
              "      <td>California</td>\n",
              "      <td>6.480</td>\n",
              "      <td>False</td>\n",
              "    </tr>\n",
              "    <tr>\n",
              "      <th>97</th>\n",
              "      <td>California</td>\n",
              "      <td>51.312</td>\n",
              "      <td>False</td>\n",
              "    </tr>\n",
              "    <tr>\n",
              "      <th>128</th>\n",
              "      <td>California</td>\n",
              "      <td>81.424</td>\n",
              "      <td>False</td>\n",
              "    </tr>\n",
              "    <tr>\n",
              "      <th>129</th>\n",
              "      <td>California</td>\n",
              "      <td>238.560</td>\n",
              "      <td>True</td>\n",
              "    </tr>\n",
              "  </tbody>\n",
              "</table>\n",
              "</div>"
            ]
          },
          "metadata": {},
          "output_type": "display_data"
        }
      ],
      "metadata": {
        "datalore": {
          "node_id": "G7jRBPIHj86qtTGUT13Ghj",
          "type": "CODE",
          "hide_input_from_viewers": false,
          "hide_output_from_viewers": false,
          "report_properties": {
            "rowId": "FnuFz487tblrKo7kwD6OiF"
          }
        },
        "id": "5uW2bjcSNXjM",
        "outputId": "6f6a809a-7645-4f43-c463-c3b48cf6ee58"
      }
    }
  ],
  "metadata": {
    "kernelspec": {
      "display_name": "Python",
      "language": "python",
      "name": "python"
    },
    "datalore": {
      "computation_mode": "JUPYTER",
      "package_manager": "pip",
      "base_environment": "default",
      "packages": [],
      "report_row_ids": [
        "BjDNNhLQTEIYutfGKfjPl2",
        "tb7B30U7Zj8CYJjWFMlZh7",
        "8GbNZwXNtdVsrRJD3iFTpf",
        "areylBX4rIUPEr9kTh4FGw",
        "U7CSnLeIzBh5X93qFwfVXj",
        "BEUufTyGJfwiwlgpeZYijB",
        "oX7o6eDz2aXiDMhFzBLyQz",
        "SvbWfYQGbTBBZfaqrS1g71",
        "aThyQLhfn0mPE3uk9mBQx5",
        "RStzOOiDosVu2geb6BGjGq",
        "oY20Uy2lbBMmySanFoR3Xo",
        "0Qn1br1GiGDOUmRgewRow7",
        "0CWnZN0o2dANha2guOY7to",
        "CpKupkMNnryOkzjGo1ttZX",
        "IiIpL8mnTTKfh1KHKNZfQa",
        "5TKiSPf2sTHaiSzhh6AZdY",
        "cgXAncPxCj452C5Xx6nSIE",
        "Srljlmu2MseJskmsjd4TJV",
        "2ijhcMfX591u5J8zvtc0Ys",
        "ESdg3BgUdsh6Wjngx5KzZv",
        "elhxiLK9dvj99D2MgXVZem",
        "Y7Tz2mCBoxInyKl0L5qktx",
        "oYr31Rhj5LAehCYV1LFKJ3",
        "Mf3TsDkZFraDqbycapleyQ",
        "bcubKn38t5EltZvTJXPC8M",
        "FnuFz487tblrKo7kwD6OiF",
        "Hp7TBHiieIZVFtFnS9DCvx",
        "GNIlpbPQwGTg9kEwfzhOAv"
      ],
      "version": 3
    },
    "colab": {
      "provenance": [],
      "include_colab_link": true
    }
  },
  "nbformat": 4,
  "nbformat_minor": 0
}